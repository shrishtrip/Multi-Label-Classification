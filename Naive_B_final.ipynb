{
 "cells": [
  {
   "cell_type": "code",
   "execution_count": 37,
   "metadata": {},
   "outputs": [],
   "source": [
    "import pandas as pd \n",
    "import numpy as np\n",
    "import scipy\n",
    "from sklearn.preprocessing import LabelEncoder\n",
    "from sklearn.model_selection import train_test_split\n",
    "\n",
    "names = ['parents', 'h_nurs', 'form', 'children', 'housing', 'finance', 'social', 'health', 'target']\n",
    "df = pd.read_csv('C:/Users/LAPPY/Desktop/DDEEPP/Dm_ass4/nursery.data', sep=',', header=None)\n",
    "for i in range(len(names)):\n",
    "    df[i] = df[i].astype('category')\n",
    "df.columns = names"
   ]
  },
  {
   "cell_type": "code",
   "execution_count": 38,
   "metadata": {},
   "outputs": [],
   "source": [
    "labelencoder = LabelEncoder()\n",
    "\n",
    "for i in range(len(df.columns)):\n",
    "    df.iloc[:,i] = labelencoder.fit_transform(df.iloc[:,i])\n"
   ]
  },
  {
   "cell_type": "code",
   "execution_count": 39,
   "metadata": {},
   "outputs": [],
   "source": [
    "train, test = train_test_split(df, test_size=0.2)\n",
    "# print(len(train))\n",
    "# print(len(test))\n",
    "\n",
    "y_test = list(test.iloc[:,-1])\n",
    "test = test.iloc[:,:-1]\n",
    "\n",
    "df = train"
   ]
  },
  {
   "cell_type": "code",
   "execution_count": 40,
   "metadata": {},
   "outputs": [],
   "source": [
    "y = list(df.iloc[:,-1])\n",
    "\n",
    "def calculate_y_prob():\n",
    "    global y\n",
    "    class_dict=dict()\n",
    "    \n",
    "    for i in y:                 #finding count of every class in target column\n",
    "        if i in class_dict:\n",
    "            class_dict[i]+=1\n",
    "        else:\n",
    "            class_dict[i]=1\n",
    "            \n",
    "    y_count = class_dict.copy()\n",
    "    \n",
    "    n = len(y)\n",
    "    for k in class_dict:\n",
    "        class_dict[k]/=n                            #calculating prior prob p(y)  stored in dictionary  classwise\n",
    "\n",
    "    return y_count,class_dict\n",
    "\n",
    "y_count,y_prob = calculate_y_prob()\n",
    "y_classes = sorted(list(y_prob.keys()))\n"
   ]
  },
  {
   "cell_type": "code",
   "execution_count": 41,
   "metadata": {},
   "outputs": [
    {
     "name": "stdout",
     "output_type": "stream",
     "text": [
      "          0         1    2         3         4\n",
      "0  0.334390  0.194923  0.0  0.503566  0.000000\n",
      "1  0.330931  0.346659  0.0  0.311008  0.391837\n",
      "2  0.334679  0.458418  1.0  0.185426  0.608163\n",
      "          0         1    2         3         4\n",
      "0  0.197175  0.111176  0.0  0.312558  0.000000\n",
      "1  0.202940  0.211555  0.0  0.186667  0.208163\n",
      "2  0.204958  0.312810  0.0  0.065426  0.395918\n",
      "3  0.196022  0.316020  1.0  0.062326  0.395918\n",
      "4  0.198905  0.048439  0.0  0.373023  0.000000\n",
      "          0         1    2         3         4\n",
      "0  0.243010  0.275751  1.0  0.209612  0.371429\n",
      "1  0.249640  0.259119  0.0  0.245891  0.302041\n",
      "2  0.256270  0.227896  0.0  0.284031  0.126531\n",
      "3  0.251081  0.237234  0.0  0.260465  0.200000\n",
      "          0         1    2         3         4\n",
      "0  0.255982  0.289466  1.0  0.197519  0.440816\n",
      "1  0.253675  0.253283  0.0  0.237209  0.302041\n",
      "2  0.244163  0.230231  0.0  0.280620  0.126531\n",
      "3  0.246180  0.227021  0.0  0.284651  0.130612\n",
      "          0         1    2         3         4\n",
      "0  0.334102  0.380800  1.0  0.262326  0.632653\n",
      "1  0.331219  0.293259  0.0  0.391938  0.073469\n",
      "2  0.334679  0.325941  0.0  0.345736  0.293878\n",
      "          0        1    2         3         4\n",
      "0  0.494379  0.52028  1.0  0.462016  0.669388\n",
      "1  0.505621  0.47972  0.0  0.537984  0.330612\n",
      "          0         1    2         3         4\n",
      "0  0.335255  0.351619  0.5  0.296124  0.485714\n",
      "1  0.335543  0.297053  0.0  0.404961  0.000000\n",
      "2  0.329201  0.351328  0.5  0.298915  0.514286\n",
      "     0         1    2         3    4\n",
      "0  1.0  0.000000  0.0  0.000000  0.0\n",
      "1  0.0  0.433032  0.0  0.609302  0.0\n",
      "2  0.0  0.566968  1.0  0.390698  1.0\n"
     ]
    }
   ],
   "source": [
    "\n",
    "def feature_prob():\n",
    "    global y\n",
    "    global df\n",
    "    global y_classes\n",
    "    global y_count\n",
    "    \n",
    "    num_classes = len(y_classes)\n",
    "    features_tables_list = []\n",
    "    n = len(df)\n",
    "    \n",
    "    n_cols = len(df.columns) - 1\n",
    "#     print(n_cols)\n",
    "    for i in range(n_cols):\n",
    "#         print(i)\n",
    "        col = list(df.iloc[:,i])\n",
    "        num_values = len(set(col))\n",
    "        df_feat = pd.DataFrame(np.zeros(num_classes*num_values).reshape(num_values,num_classes))\n",
    "#         print(df_feat)\n",
    "#calculating count of feature value per class         \n",
    "        for j in range(n):\n",
    "#             print('col',col[j])\n",
    "#             print('y',y[j])\n",
    "            df_feat.iloc[col[j]][y[j]]+=1\n",
    "#calculating probabilty by dividing with count         \n",
    "        for j in range(num_classes):\n",
    "            df_feat.iloc[:,j] /= y_count[j]\n",
    "        \n",
    "        print(df_feat)\n",
    "        features_tables_list.append(df_feat)\n",
    "        \n",
    "    return features_tables_list\n",
    "    \n",
    "features_prob_list = feature_prob()"
   ]
  },
  {
   "cell_type": "code",
   "execution_count": null,
   "metadata": {},
   "outputs": [],
   "source": []
  },
  {
   "cell_type": "code",
   "execution_count": 42,
   "metadata": {},
   "outputs": [],
   "source": [
    "def classify(test_point):\n",
    "    global y_classes\n",
    "    global y_prob\n",
    "    global features_prob_list\n",
    "    \n",
    "    _prob = [ ]\n",
    "    \n",
    "    for y in y_classes:\n",
    "        p = y_prob[y]\n",
    "        for i in range(len(test_point)):\n",
    "            #print(features_prob_list[i])\n",
    "            p*=features_prob_list[i].iloc[test_point[i]][y]\n",
    "        _prob.append(p)\n",
    "    \n",
    "    \n",
    "    maxIn = -1\n",
    "    maxVal = -1\n",
    "    for i in range(len(_prob)):\n",
    "        if _prob[i]>maxVal:\n",
    "            maxVal=_prob[i]\n",
    "            maxIn=i\n",
    "            \n",
    "    return y_classes[maxIn]"
   ]
  },
  {
   "cell_type": "code",
   "execution_count": 43,
   "metadata": {},
   "outputs": [],
   "source": [
    "pred = []\n",
    "for i in range(len(test)):\n",
    "    pred.append(classify(list(test.iloc[i])))\n",
    "    "
   ]
  },
  {
   "cell_type": "code",
   "execution_count": 44,
   "metadata": {},
   "outputs": [
    {
     "name": "stdout",
     "output_type": "stream",
     "text": [
      "90.2006172839506\n"
     ]
    }
   ],
   "source": [
    "acc = 0\n",
    "for i in range(len(test)):\n",
    "    if pred[i] == y_test[i]:\n",
    "        acc+=1\n",
    "print(acc/len(test)*100)\n",
    "# print(len(pred))\n",
    "# print(len(y_test))"
   ]
  },
  {
   "cell_type": "code",
   "execution_count": 45,
   "metadata": {},
   "outputs": [
    {
     "name": "stdout",
     "output_type": "stream",
     "text": [
      "rows = predicted values\n",
      "columns = actual values\n",
      "\n",
      "       0      1    2      3     4\n",
      "0  851.0    0.0  0.0    0.0   0.0\n",
      "1    0.0  760.0  0.0   97.0  78.0\n",
      "2    0.0    0.0  0.0    0.0   0.0\n",
      "3    0.0   79.0  0.0  722.0   0.0\n",
      "4    0.0    0.0  0.0    0.0   5.0\n"
     ]
    }
   ],
   "source": [
    "\n",
    "conf_mat = pd.DataFrame(np.zeros(len(y_classes)**2).reshape(len(y_classes),len(y_classes)))\n",
    "# print(conf_mat)\n",
    "#y_test\n",
    "\n",
    "for i in range(len(y_test)):\n",
    "    conf_mat.iloc[pred[i],y_test[i]]+=1\n",
    "#         print(conf_mat)\n",
    "\n",
    "print('rows = predicted values\\ncolumns = actual values\\n')\n",
    "print(conf_mat)"
   ]
  },
  {
   "cell_type": "code",
   "execution_count": 46,
   "metadata": {},
   "outputs": [
    {
     "name": "stdout",
     "output_type": "stream",
     "text": [
      "[1.         0.90584029 0.         0.88156288 0.06024096]\n"
     ]
    }
   ],
   "source": [
    "precision = np.zeros(len(y_classes))\n",
    "for i in range(len(y_classes)):\n",
    "    t = list(conf_mat[i])\n",
    "    num = t[i]\n",
    "    den = sum(t)\n",
    "    try:\n",
    "        precision[i] = num/den\n",
    "    except:\n",
    "        pass\n",
    "print(precision)"
   ]
  },
  {
   "cell_type": "code",
   "execution_count": 47,
   "metadata": {},
   "outputs": [
    {
     "name": "stdout",
     "output_type": "stream",
     "text": [
      "[1.         0.81283422 0.         0.90137328 1.        ]\n"
     ]
    }
   ],
   "source": [
    "recall = np.zeros(len(y_classes))\n",
    "for i in range(len(y_classes)):\n",
    "    t = list(conf_mat.iloc[i])\n",
    "    num = t[i]\n",
    "    den = sum(t)\n",
    "    try:\n",
    "        recall[i] = num/den\n",
    "    except:\n",
    "        pass\n",
    "print(recall)"
   ]
  },
  {
   "cell_type": "code",
   "execution_count": null,
   "metadata": {},
   "outputs": [],
   "source": []
  },
  {
   "cell_type": "code",
   "execution_count": null,
   "metadata": {},
   "outputs": [],
   "source": []
  },
  {
   "cell_type": "code",
   "execution_count": null,
   "metadata": {},
   "outputs": [],
   "source": []
  }
 ],
 "metadata": {
  "kernelspec": {
   "display_name": "Python 3",
   "language": "python",
   "name": "python3"
  },
  "language_info": {
   "codemirror_mode": {
    "name": "ipython",
    "version": 3
   },
   "file_extension": ".py",
   "mimetype": "text/x-python",
   "name": "python",
   "nbconvert_exporter": "python",
   "pygments_lexer": "ipython3",
   "version": "3.6.5"
  }
 },
 "nbformat": 4,
 "nbformat_minor": 2
}
